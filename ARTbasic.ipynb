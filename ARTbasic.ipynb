{
 "cells": [
  {
   "cell_type": "code",
   "execution_count": 1,
   "id": "c5f503e3-7d56-4b43-a183-9768b41a0171",
   "metadata": {},
   "outputs": [
    {
     "name": "stdout",
     "output_type": "stream",
     "text": [
      "Cluster assignments: [-1, -1, 0, 0]\n"
     ]
    }
   ],
   "source": [
    "import numpy as np\n",
    "\n",
    "class ART:\n",
    "    def __init__(self, input_size, num_clusters, vigilance=0.9, learning_rate=0.5):\n",
    "        self.input_size = input_size\n",
    "        self.num_clusters = num_clusters\n",
    "        self.vigilance = vigilance\n",
    "        self.learning_rate = learning_rate\n",
    "        self.weights = np.random.rand(num_clusters, input_size)\n",
    "\n",
    "    def normalize(self, vector):\n",
    "        norm = np.linalg.norm(vector)\n",
    "        return vector / norm if norm != 0 else vector\n",
    "\n",
    "    def similarity(self, x, w):\n",
    "        return np.dot(x, w)\n",
    "\n",
    "    def train(self, input_data):\n",
    "        input_data = [self.normalize(x) for x in input_data]\n",
    "        cluster_assignments = []\n",
    "\n",
    "        for x in input_data:\n",
    "            found_match = False\n",
    "            for i, w in enumerate(self.weights):\n",
    "                sim = self.similarity(x, w)\n",
    "                if sim >= self.vigilance:\n",
    "                    self.weights[i] = self.learning_rate * x + (1 - self.learning_rate) * w\n",
    "                    self.weights[i] = self.normalize(self.weights[i])\n",
    "                    cluster_assignments.append(i)\n",
    "                    found_match = True\n",
    "                    break\n",
    "            if not found_match:\n",
    "                cluster_assignments.append(-1)\n",
    "\n",
    "        return cluster_assignments\n",
    "\n",
    "# Example input\n",
    "data = np.array([\n",
    "    [0.9, 0.1, 0.3],\n",
    "    [0.85, 0.15, 0.4],\n",
    "    [0.1, 0.9, 0.8],\n",
    "    [0.05, 0.95, 0.85]\n",
    "])\n",
    "\n",
    "art_model = ART(input_size=3, num_clusters=2, vigilance=0.8)\n",
    "clusters = art_model.train(data)\n",
    "\n",
    "print(\"Cluster assignments:\", clusters)"
   ]
  },
  {
   "cell_type": "code",
   "execution_count": null,
   "id": "9238b115-f5aa-42f3-81f0-9dcfa8ff1f7d",
   "metadata": {},
   "outputs": [],
   "source": []
  }
 ],
 "metadata": {
  "kernelspec": {
   "display_name": "Python 3 (ipykernel)",
   "language": "python",
   "name": "python3"
  },
  "language_info": {
   "codemirror_mode": {
    "name": "ipython",
    "version": 3
   },
   "file_extension": ".py",
   "mimetype": "text/x-python",
   "name": "python",
   "nbconvert_exporter": "python",
   "pygments_lexer": "ipython3",
   "version": "3.12.7"
  }
 },
 "nbformat": 4,
 "nbformat_minor": 5
}
