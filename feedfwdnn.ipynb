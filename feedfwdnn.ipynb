{
 "cells": [
  {
   "cell_type": "code",
   "execution_count": 1,
   "id": "360656f3-1181-4635-96fd-59b1222b5633",
   "metadata": {},
   "outputs": [],
   "source": [
    "import numpy as np"
   ]
  },
  {
   "cell_type": "code",
   "execution_count": 2,
   "id": "3f9d6728-8b91-49f6-844a-29f3f3f1774f",
   "metadata": {},
   "outputs": [],
   "source": [
    "# Input features: (sleep hours, study hours), Target: test score\n",
    "inputs = np.array([[2, 9], [1, 5], [3, 6]], dtype=float)\n",
    "targets = np.array([[92], [86], [89]], dtype=float)"
   ]
  },
  {
   "cell_type": "code",
   "execution_count": 3,
   "id": "b9779d87-25e5-48c3-9842-fa63f0babf81",
   "metadata": {},
   "outputs": [],
   "source": [
    "# Normalising inputs and outputs to bring them in the range 0-1\n",
    "inputs = inputs / np.amax(inputs, axis=0)  # scale features column-wise\n",
    "targets = targets / 100  # assuming max score is 100"
   ]
  },
  {
   "cell_type": "code",
   "execution_count": 4,
   "id": "16c40913-4d8a-437b-98c4-72d86314841d",
   "metadata": {},
   "outputs": [],
   "source": [
    "# Defining a simple neural network class\n",
    "class SimpleNeuralNet:\n",
    "    def __init__(self):\n",
    "        self.input_nodes = 2\n",
    "        self.hidden_nodes = 3\n",
    "        self.output_nodes = 1\n",
    "\n",
    "        self.weights_input_hidden = np.random.randn(self.input_nodes, self.hidden_nodes)\n",
    "        self.weights_hidden_output = np.random.randn(self.hidden_nodes, self.output_nodes)\n",
    "\n",
    "    def sigmoid(self, x, derivative=False):\n",
    "        if derivative:\n",
    "            return x * (1 - x)\n",
    "        return 1 / (1 + np.exp(-x))\n",
    "\n",
    "    def forward_pass(self, X):\n",
    "        self.hidden_input = np.dot(X, self.weights_input_hidden)\n",
    "        self.hidden_output = self.sigmoid(self.hidden_input)\n",
    "\n",
    "        final_input = np.dot(self.hidden_output, self.weights_hidden_output)\n",
    "        self.predicted_output = self.sigmoid(final_input)\n",
    "        return self.predicted_output\n",
    "\n",
    "    def backpropagate(self, X, y, predicted):\n",
    "        error = y - predicted\n",
    "        delta_output = error * self.sigmoid(predicted, derivative=True)\n",
    "\n",
    "        error_hidden = delta_output.dot(self.weights_hidden_output.T)\n",
    "        delta_hidden = error_hidden * self.sigmoid(self.hidden_output, derivative=True)\n",
    "\n",
    "        self.weights_hidden_output += self.hidden_output.T.dot(delta_output)\n",
    "        self.weights_input_hidden += X.T.dot(delta_hidden)\n",
    "\n",
    "    def train(self, X, y, iterations=1000):\n",
    "        for i in range(iterations):\n",
    "            predicted = self.forward_pass(X)\n",
    "            self.backpropagate(X, y, predicted)\n",
    "            if i % 100 == 0:\n",
    "                loss = np.mean(np.square(y - predicted))\n",
    "                print(f\"Epoch {i} - Loss: {loss:.4f}\")\n",
    "\n",
    "   # def predict(self, X_new):\n",
    "    #   X_new = X_new / np.amax(inputs, axis=0)  # scale like training data\n",
    "     #  prediction = self.forward_pass(X_new)\n",
    "     #  return prediction * 100  # convert back to actual score\n",
    "\n",
    "\n",
    "    \n"
   ]
  },
  {
   "cell_type": "code",
   "execution_count": 5,
   "id": "f923d717-5824-4921-a21e-ef07e592bf37",
   "metadata": {},
   "outputs": [
    {
     "name": "stdout",
     "output_type": "stream",
     "text": [
      "Epoch 0 - Loss: 0.1698\n",
      "Epoch 100 - Loss: 0.0003\n",
      "Epoch 200 - Loss: 0.0003\n",
      "Epoch 300 - Loss: 0.0003\n",
      "Epoch 400 - Loss: 0.0003\n",
      "Epoch 500 - Loss: 0.0003\n",
      "Epoch 600 - Loss: 0.0003\n",
      "Epoch 700 - Loss: 0.0003\n",
      "Epoch 800 - Loss: 0.0003\n",
      "Epoch 900 - Loss: 0.0003\n"
     ]
    }
   ],
   "source": [
    "# Create object and train\n",
    "model = SimpleNeuralNet()\n",
    "model.train(inputs, targets)"
   ]
  },
  {
   "cell_type": "code",
   "execution_count": 6,
   "id": "e45cf1d7-f6d0-48c1-a5f7-60017c14eebf",
   "metadata": {},
   "outputs": [
    {
     "name": "stdout",
     "output_type": "stream",
     "text": [
      "\n",
      "Final Predictions:\n",
      "[[0.90084445]\n",
      " [0.87984501]\n",
      " [0.88729114]]\n"
     ]
    }
   ],
   "source": [
    "print(\"\\nFinal Predictions:\")\n",
    "print(model.forward_pass(inputs))"
   ]
  },
  {
   "cell_type": "code",
   "execution_count": 7,
   "id": "51488344-9f0d-4a3e-ade4-7f6cbe629ca7",
   "metadata": {},
   "outputs": [],
   "source": [
    "# Example: predict for a new student with 2.5 hours sleep and 7 hours study\n",
    "#new_student = np.array([[2.5, 7]])\n",
    "#predicted_score = model.predict(new_student)\n",
    "#print(f\"Predicted Test Score: {predicted_score[0][0]:.2f}\")\n"
   ]
  },
  {
   "cell_type": "code",
   "execution_count": null,
   "id": "a4ddefd8-b6c5-44b7-b5dd-6b72c82c6660",
   "metadata": {},
   "outputs": [],
   "source": []
  },
  {
   "cell_type": "code",
   "execution_count": null,
   "id": "30e4040b-028b-467a-8c0d-c8d631b5f9eb",
   "metadata": {},
   "outputs": [],
   "source": []
  },
  {
   "cell_type": "code",
   "execution_count": null,
   "id": "6d5bfed6-056f-48ed-a91e-511c8731f61d",
   "metadata": {},
   "outputs": [],
   "source": []
  },
  {
   "cell_type": "code",
   "execution_count": null,
   "id": "3a91ed32-9221-45df-ab5a-8a5092ecb772",
   "metadata": {},
   "outputs": [],
   "source": []
  },
  {
   "cell_type": "code",
   "execution_count": null,
   "id": "4078807a-ac1d-45fb-a49c-dac0f9c260b9",
   "metadata": {},
   "outputs": [],
   "source": []
  },
  {
   "cell_type": "code",
   "execution_count": null,
   "id": "61916250-2b94-4351-8e9c-a575ff2a4f20",
   "metadata": {},
   "outputs": [],
   "source": []
  }
 ],
 "metadata": {
  "kernelspec": {
   "display_name": "Python 3 (ipykernel)",
   "language": "python",
   "name": "python3"
  },
  "language_info": {
   "codemirror_mode": {
    "name": "ipython",
    "version": 3
   },
   "file_extension": ".py",
   "mimetype": "text/x-python",
   "name": "python",
   "nbconvert_exporter": "python",
   "pygments_lexer": "ipython3",
   "version": "3.12.7"
  }
 },
 "nbformat": 4,
 "nbformat_minor": 5
}
